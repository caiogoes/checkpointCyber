{
  "cells": [
    {
      "cell_type": "markdown",
      "metadata": {
        "id": "view-in-github",
        "colab_type": "text"
      },
      "source": [
        "<a href=\"https://colab.research.google.com/github/caiogoes/checkpointCyber/blob/main/checkpointCS.ipynb\" target=\"_parent\"><img src=\"https://colab.research.google.com/assets/colab-badge.svg\" alt=\"Open In Colab\"/></a>"
      ]
    },
    {
      "cell_type": "code",
      "execution_count": 1,
      "metadata": {
        "id": "IrGWaByQLn1k",
        "colab": {
          "base_uri": "https://localhost:8080/"
        },
        "outputId": "15b484af-a16f-4b87-d6a6-789487d5a753"
      },
      "outputs": [
        {
          "output_type": "stream",
          "name": "stdout",
          "text": [
            "\u001b[?25l\r\u001b[K     |▍                               | 10 kB 29.9 MB/s eta 0:00:01\r\u001b[K     |▉                               | 20 kB 35.5 MB/s eta 0:00:01\r\u001b[K     |█▎                              | 30 kB 15.0 MB/s eta 0:00:01\r\u001b[K     |█▊                              | 40 kB 11.1 MB/s eta 0:00:01\r\u001b[K     |██▏                             | 51 kB 3.9 MB/s eta 0:00:01\r\u001b[K     |██▋                             | 61 kB 4.6 MB/s eta 0:00:01\r\u001b[K     |███                             | 71 kB 4.8 MB/s eta 0:00:01\r\u001b[K     |███▌                            | 81 kB 4.7 MB/s eta 0:00:01\r\u001b[K     |████                            | 92 kB 5.2 MB/s eta 0:00:01\r\u001b[K     |████▍                           | 102 kB 4.4 MB/s eta 0:00:01\r\u001b[K     |████▉                           | 112 kB 4.4 MB/s eta 0:00:01\r\u001b[K     |█████▎                          | 122 kB 4.4 MB/s eta 0:00:01\r\u001b[K     |█████▊                          | 133 kB 4.4 MB/s eta 0:00:01\r\u001b[K     |██████▏                         | 143 kB 4.4 MB/s eta 0:00:01\r\u001b[K     |██████▋                         | 153 kB 4.4 MB/s eta 0:00:01\r\u001b[K     |███████                         | 163 kB 4.4 MB/s eta 0:00:01\r\u001b[K     |███████▌                        | 174 kB 4.4 MB/s eta 0:00:01\r\u001b[K     |████████                        | 184 kB 4.4 MB/s eta 0:00:01\r\u001b[K     |████████▍                       | 194 kB 4.4 MB/s eta 0:00:01\r\u001b[K     |████████▉                       | 204 kB 4.4 MB/s eta 0:00:01\r\u001b[K     |█████████▎                      | 215 kB 4.4 MB/s eta 0:00:01\r\u001b[K     |█████████▊                      | 225 kB 4.4 MB/s eta 0:00:01\r\u001b[K     |██████████▏                     | 235 kB 4.4 MB/s eta 0:00:01\r\u001b[K     |██████████▌                     | 245 kB 4.4 MB/s eta 0:00:01\r\u001b[K     |███████████                     | 256 kB 4.4 MB/s eta 0:00:01\r\u001b[K     |███████████▍                    | 266 kB 4.4 MB/s eta 0:00:01\r\u001b[K     |███████████▉                    | 276 kB 4.4 MB/s eta 0:00:01\r\u001b[K     |████████████▎                   | 286 kB 4.4 MB/s eta 0:00:01\r\u001b[K     |████████████▊                   | 296 kB 4.4 MB/s eta 0:00:01\r\u001b[K     |█████████████▏                  | 307 kB 4.4 MB/s eta 0:00:01\r\u001b[K     |█████████████▋                  | 317 kB 4.4 MB/s eta 0:00:01\r\u001b[K     |██████████████                  | 327 kB 4.4 MB/s eta 0:00:01\r\u001b[K     |██████████████▌                 | 337 kB 4.4 MB/s eta 0:00:01\r\u001b[K     |███████████████                 | 348 kB 4.4 MB/s eta 0:00:01\r\u001b[K     |███████████████▍                | 358 kB 4.4 MB/s eta 0:00:01\r\u001b[K     |███████████████▉                | 368 kB 4.4 MB/s eta 0:00:01\r\u001b[K     |████████████████▎               | 378 kB 4.4 MB/s eta 0:00:01\r\u001b[K     |████████████████▊               | 389 kB 4.4 MB/s eta 0:00:01\r\u001b[K     |█████████████████▏              | 399 kB 4.4 MB/s eta 0:00:01\r\u001b[K     |█████████████████▋              | 409 kB 4.4 MB/s eta 0:00:01\r\u001b[K     |██████████████████              | 419 kB 4.4 MB/s eta 0:00:01\r\u001b[K     |██████████████████▌             | 430 kB 4.4 MB/s eta 0:00:01\r\u001b[K     |███████████████████             | 440 kB 4.4 MB/s eta 0:00:01\r\u001b[K     |███████████████████▍            | 450 kB 4.4 MB/s eta 0:00:01\r\u001b[K     |███████████████████▉            | 460 kB 4.4 MB/s eta 0:00:01\r\u001b[K     |████████████████████▎           | 471 kB 4.4 MB/s eta 0:00:01\r\u001b[K     |████████████████████▋           | 481 kB 4.4 MB/s eta 0:00:01\r\u001b[K     |█████████████████████           | 491 kB 4.4 MB/s eta 0:00:01\r\u001b[K     |█████████████████████▌          | 501 kB 4.4 MB/s eta 0:00:01\r\u001b[K     |██████████████████████          | 512 kB 4.4 MB/s eta 0:00:01\r\u001b[K     |██████████████████████▍         | 522 kB 4.4 MB/s eta 0:00:01\r\u001b[K     |██████████████████████▉         | 532 kB 4.4 MB/s eta 0:00:01\r\u001b[K     |███████████████████████▎        | 542 kB 4.4 MB/s eta 0:00:01\r\u001b[K     |███████████████████████▊        | 552 kB 4.4 MB/s eta 0:00:01\r\u001b[K     |████████████████████████▏       | 563 kB 4.4 MB/s eta 0:00:01\r\u001b[K     |████████████████████████▋       | 573 kB 4.4 MB/s eta 0:00:01\r\u001b[K     |█████████████████████████       | 583 kB 4.4 MB/s eta 0:00:01\r\u001b[K     |█████████████████████████▌      | 593 kB 4.4 MB/s eta 0:00:01\r\u001b[K     |██████████████████████████      | 604 kB 4.4 MB/s eta 0:00:01\r\u001b[K     |██████████████████████████▍     | 614 kB 4.4 MB/s eta 0:00:01\r\u001b[K     |██████████████████████████▉     | 624 kB 4.4 MB/s eta 0:00:01\r\u001b[K     |███████████████████████████▎    | 634 kB 4.4 MB/s eta 0:00:01\r\u001b[K     |███████████████████████████▊    | 645 kB 4.4 MB/s eta 0:00:01\r\u001b[K     |████████████████████████████▏   | 655 kB 4.4 MB/s eta 0:00:01\r\u001b[K     |████████████████████████████▋   | 665 kB 4.4 MB/s eta 0:00:01\r\u001b[K     |█████████████████████████████   | 675 kB 4.4 MB/s eta 0:00:01\r\u001b[K     |█████████████████████████████▌  | 686 kB 4.4 MB/s eta 0:00:01\r\u001b[K     |██████████████████████████████  | 696 kB 4.4 MB/s eta 0:00:01\r\u001b[K     |██████████████████████████████▍ | 706 kB 4.4 MB/s eta 0:00:01\r\u001b[K     |██████████████████████████████▊ | 716 kB 4.4 MB/s eta 0:00:01\r\u001b[K     |███████████████████████████████▏| 727 kB 4.4 MB/s eta 0:00:01\r\u001b[K     |███████████████████████████████▋| 737 kB 4.4 MB/s eta 0:00:01\r\u001b[K     |████████████████████████████████| 745 kB 4.4 MB/s \n",
            "\u001b[?25h  Building wheel for pyngrok (setup.py) ... \u001b[?25l\u001b[?25hdone\n"
          ]
        }
      ],
      "source": [
        "!pip install -q pyngrok"
      ]
    },
    {
      "cell_type": "code",
      "execution_count": 2,
      "metadata": {
        "id": "jlAR46QWL1P3",
        "colab": {
          "base_uri": "https://localhost:8080/"
        },
        "outputId": "28fd5708-e584-4dd4-8443-58b378c7a700"
      },
      "outputs": [
        {
          "output_type": "stream",
          "name": "stdout",
          "text": [
            "\u001b[K     |████████████████████████████████| 10.1 MB 4.1 MB/s \n",
            "\u001b[K     |████████████████████████████████| 164 kB 60.5 MB/s \n",
            "\u001b[K     |████████████████████████████████| 111 kB 61.4 MB/s \n",
            "\u001b[K     |████████████████████████████████| 76 kB 6.1 MB/s \n",
            "\u001b[K     |████████████████████████████████| 181 kB 57.4 MB/s \n",
            "\u001b[K     |████████████████████████████████| 4.3 MB 42.3 MB/s \n",
            "\u001b[K     |████████████████████████████████| 63 kB 2.2 MB/s \n",
            "\u001b[K     |████████████████████████████████| 131 kB 28.7 MB/s \n",
            "\u001b[K     |████████████████████████████████| 130 kB 71.0 MB/s \n",
            "\u001b[K     |████████████████████████████████| 793 kB 51.0 MB/s \n",
            "\u001b[K     |████████████████████████████████| 428 kB 91.8 MB/s \n",
            "\u001b[K     |████████████████████████████████| 381 kB 58.3 MB/s \n",
            "\u001b[?25h  Building wheel for blinker (setup.py) ... \u001b[?25l\u001b[?25hdone\n",
            "  Building wheel for validators (setup.py) ... \u001b[?25l\u001b[?25hdone\n",
            "\u001b[31mERROR: pip's dependency resolver does not currently take into account all the packages that are installed. This behaviour is the source of the following dependency conflicts.\n",
            "jupyter-console 5.2.0 requires prompt-toolkit<2.0.0,>=1.0.0, but you have prompt-toolkit 3.0.29 which is incompatible.\n",
            "google-colab 1.0.0 requires ipykernel~=4.10, but you have ipykernel 6.13.0 which is incompatible.\n",
            "google-colab 1.0.0 requires ipython~=5.5.0, but you have ipython 7.33.0 which is incompatible.\n",
            "google-colab 1.0.0 requires tornado~=5.1.0; python_version >= \"3.0\", but you have tornado 6.1 which is incompatible.\u001b[0m\n"
          ]
        }
      ],
      "source": [
        "!pip install -q streamlit"
      ]
    },
    {
      "cell_type": "code",
      "execution_count": 3,
      "metadata": {
        "id": "FKHNiZl4L7gn",
        "colab": {
          "base_uri": "https://localhost:8080/"
        },
        "outputId": "eb8b8195-0282-4a4f-a778-cf4fb92f52e7"
      },
      "outputs": [
        {
          "output_type": "stream",
          "name": "stdout",
          "text": [
            "\u001b[K     |████████████████████████████████| 3.6 MB 3.8 MB/s \n",
            "\u001b[?25h"
          ]
        }
      ],
      "source": [
        "!pip install -q streamlit_ace"
      ]
    },
    {
      "cell_type": "code",
      "execution_count": 4,
      "metadata": {
        "id": "opqIz5YSL9Fu"
      },
      "outputs": [],
      "source": [
        "!streamlit run app.py &>/dev/null&"
      ]
    },
    {
      "cell_type": "code",
      "execution_count": 5,
      "metadata": {
        "id": "DFo78r9BL-wC"
      },
      "outputs": [],
      "source": [
        "from pyngrok import ngrok"
      ]
    },
    {
      "cell_type": "code",
      "source": [
        "!pip install fuzzywuzzy[speedup]"
      ],
      "metadata": {
        "colab": {
          "base_uri": "https://localhost:8080/"
        },
        "id": "qY_8WYYIxnK0",
        "outputId": "594623c0-5af8-4c68-e6bb-c2f97dbf26c3"
      },
      "execution_count": 6,
      "outputs": [
        {
          "output_type": "stream",
          "name": "stdout",
          "text": [
            "Collecting fuzzywuzzy[speedup]\n",
            "  Downloading fuzzywuzzy-0.18.0-py2.py3-none-any.whl (18 kB)\n",
            "Collecting python-levenshtein>=0.12\n",
            "  Downloading python-Levenshtein-0.12.2.tar.gz (50 kB)\n",
            "\u001b[?25l\r\u001b[K     |██████▌                         | 10 kB 12.2 MB/s eta 0:00:01\r\u001b[K     |█████████████                   | 20 kB 12.0 MB/s eta 0:00:01\r\u001b[K     |███████████████████▌            | 30 kB 8.5 MB/s eta 0:00:01\r\u001b[K     |██████████████████████████      | 40 kB 3.4 MB/s eta 0:00:01\r\u001b[K     |████████████████████████████████| 50 kB 2.9 MB/s \n",
            "\u001b[?25hRequirement already satisfied: setuptools in /usr/local/lib/python3.7/dist-packages (from python-levenshtein>=0.12->fuzzywuzzy[speedup]) (57.4.0)\n",
            "Building wheels for collected packages: python-levenshtein\n",
            "  Building wheel for python-levenshtein (setup.py) ... \u001b[?25l\u001b[?25hdone\n",
            "  Created wheel for python-levenshtein: filename=python_Levenshtein-0.12.2-cp37-cp37m-linux_x86_64.whl size=149874 sha256=b72a762ea4818df502f44a3a1e6c56f87169f3b3927fbbfa594cabe5364ddaed\n",
            "  Stored in directory: /root/.cache/pip/wheels/05/5f/ca/7c4367734892581bb5ff896f15027a932c551080b2abd3e00d\n",
            "Successfully built python-levenshtein\n",
            "Installing collected packages: python-levenshtein, fuzzywuzzy\n",
            "Successfully installed fuzzywuzzy-0.18.0 python-levenshtein-0.12.2\n"
          ]
        }
      ]
    },
    {
      "cell_type": "code",
      "execution_count": 21,
      "metadata": {
        "colab": {
          "base_uri": "https://localhost:8080/"
        },
        "id": "b8E65fDmMB1I",
        "outputId": "7d060dfc-9756-44e4-ffb4-c8f313d39a7f"
      },
      "outputs": [
        {
          "output_type": "stream",
          "name": "stdout",
          "text": [
            "Overwriting app.py\n"
          ]
        }
      ],
      "source": [
        "#Comando para Criar o Sistema no arquivo app.py\n",
        "%%writefile app.py\n",
        "\n",
        "#Importando Pacotes\n",
        "import streamlit as st\n",
        "import re\n",
        "import json\n",
        "import requests\n",
        "from fuzzywuzzy import fuzz\n",
        "\n",
        "apisCountrys = {\n",
        "  \"BRA\": {\n",
        "     \"url\": \"https://cspinheiro.github.io/bra2.json\"\n",
        "  },\n",
        "  \"FRA\": {\n",
        "    \"url\": \"https://henricobela.github.io/fra.json\"\n",
        "  },\n",
        "  \"AGO\": {\n",
        "    \"url\": \"https://the-icaro.github.io/ago.json\"\n",
        "  },\n",
        "  \"ITA\": {\n",
        "    \"url\": \"https://isabellitankian.github.io/ita.json\"\n",
        "  },\n",
        "  \"AUS\": {\n",
        "    \"url\": \"https://cesarnorena.github.io/aus.json\"\n",
        "  },\n",
        "  \"IND\": {\n",
        "    \"url\": \"https://eduardomatoss.github.io/ind.json\"\n",
        "  },\n",
        "  \"MNG\": {\n",
        "    \"url\": \"https://emgabrielly.github.io/mng.json\"\n",
        "  },\n",
        "  \"CAN\": {\n",
        "    \"url\": \"https://educunhamxk.github.io/CAN.json\"\n",
        "  },\n",
        "  \"GRC\": {\n",
        "    \"url\": \"https://dalcol99.github.io/grc.json\"\n",
        "  },\n",
        "  \"HUN\": {\n",
        "    \"url\": \"https://guhdalla.github.io/hun.json\"\n",
        "  },\n",
        "  \"ARG\": {\n",
        "    \"url\": \"https://kndhvh.github.io/arg.json\"\n",
        "  },\n",
        "  \"IRL\": {\n",
        "    \"url\": \"https://victorswory.github.io/irl.json\"\n",
        "  },\n",
        "  \"NPL\": {\n",
        "    \"url\": \"https://rodrigofer89.github.io/npl.json\"\n",
        "  },\n",
        "  \"IRQ\": {\n",
        "    \"url\": \"https://felps2003.github.io/irq.json\"\n",
        "  },\n",
        "  \"BEL\": {\n",
        "    \"url\": \"https://rafael-pereira-silva.github.io/bel.json\"\n",
        "  },\n",
        "  \"NIC\": {\n",
        "    \"url\": \"https://rafael-pereira-silva.github.io/bel.json\"\n",
        "  },\n",
        "  \"PRT\": {\n",
        "    \"url\": \"https://0verthrive.github.io/prt.json\"\n",
        "  },\n",
        "  \"MDV\": {\n",
        "    \"url\": \"https://jluizgomes.github.io/mdv.json\"\n",
        "  },\n",
        "  \"COL\": {\n",
        "    \"url\": \"https://caiogoes.github.io/col.json\"\n",
        "  },\n",
        "  \"HND\": {\n",
        "    \"url\": \"https://ricardoaugu.github.io/excel-to-json.json\"\n",
        "  },\n",
        "  \"PRY\": {\n",
        "    \"url\": \"https://danielthelink.github.io/pry.json\"\n",
        "  }\n",
        "}\n",
        "apiInterpol = 'https://cspinheiro.github.io/interpol.json'\n",
        "\n",
        "#Essa função é para criação da webpage\n",
        "def main():\n",
        "  #Elementos da webpage\n",
        "  html_temp = \"\"\"\n",
        "  <div style =\"background: #11112E;padding:13px\">\n",
        "  <h1 style =\"color:rgba(255, 255, 255, 0.5); text-align:center;\">Consultar Passageiro<h1>\n",
        "  </div>\n",
        "  \"\"\"\n",
        "\n",
        "  # Função do stramlit que faz o display da webpage\n",
        "  st.markdown(html_temp, unsafe_allow_html = True) \n",
        "    \n",
        "  # As linhas abaixo criam as caixas na qual o usuário vai entrar com dados da pessoa que quer o empréstimo para fazer a Predição\n",
        "  nome = st.text_input('Digite o nome')\n",
        "  passaporte = st.text_input('Digite o passaporte')\n",
        "    \n",
        "  def getInvalidPassenger(nome, passaporte):\n",
        "    flg_nome = False\n",
        "    flg_passaporte = False\n",
        "\n",
        "    if st.button(\"Verificar\"): \n",
        "      if(nome and passaporte):\n",
        "\n",
        "        #Validação Passaporte\n",
        "        pass_country = re.sub(r'[^a-zA-Z]', '', passaporte)\n",
        "        pass_number = re.sub(r'[^0-9]', '', passaporte)\n",
        "        jsonApis = json.dumps(apisCountrys)\n",
        "        jsonApis = json.loads(jsonApis)\n",
        "\n",
        "        if(pass_country and pass_number):\n",
        "          if pass_country.upper() in jsonApis:\n",
        "\n",
        "            # Obrigado por deixar seu campo como 'bra2' prof ;)\n",
        "            campo1 = pass_country.lower()\n",
        "            if pass_country.lower() == 'bra':\n",
        "              campo1 = 'bra2'\n",
        "            \n",
        "            if pass_country.lower() == 'can' or pass_country.lower() == 'hnd':\n",
        "              campo1 = pass_country.upper()\n",
        "\n",
        "            res = requests.get(jsonApis[pass_country.upper()]['url'])\n",
        "            dict_col = res.json()[campo1]\n",
        "\n",
        "            for item in dict_col:\n",
        "            \t# Obrigado 2 por deixar seu campo como 'passaporte' prof ;)\n",
        "              campo2 = pass_country.lower()\n",
        "              if pass_country.upper() == 'BRA' or pass_country.upper() == 'MDV':\n",
        "                campo2 = 'passaporte'\n",
        "\n",
        "              if pass_country.lower() == 'can':\n",
        "                campo2 = pass_country.upper()\n",
        "\n",
        "              if pass_country.lower() == 'prt':\n",
        "                campo2 = 'passport'\n",
        "\n",
        "              if item[campo2] == int(pass_number):\n",
        "                flg_passaporte = True\n",
        "          else:\n",
        "            st.warning('País não encontrado')\n",
        "            return\n",
        "        else:\n",
        "          st.warning('Digite o passaporte corretamente')\n",
        "          return\n",
        "\n",
        "        #Validação Nome\n",
        "        res = requests.get(apiInterpol)\n",
        "        dict_col = res.json()['interpol']\n",
        "\n",
        "        for text in dict_col:\n",
        "          ratio = fuzz.ratio(nome, text['interpol'])\n",
        "          if ratio > 70:\n",
        "            flg_nome = True\n",
        "            break\n",
        "\n",
        "        if flg_passaporte == True or flg_nome == True:\n",
        "          st.error('Passageiro inválido')\n",
        "          return\n",
        "        else:\n",
        "          st.success('Passageiro liberado')\n",
        "          return\n",
        "\n",
        "      else:\n",
        "        st.warning('Digite os campos corretamente')\n",
        "        return\n",
        "\n",
        "  getInvalidPassenger(nome, passaporte)\n",
        "\n",
        "if __name__=='__main__': \n",
        "  main()"
      ]
    },
    {
      "cell_type": "code",
      "execution_count": null,
      "metadata": {
        "colab": {
          "base_uri": "https://localhost:8080/"
        },
        "id": "SnvKDMyCMEAJ",
        "outputId": "63d3bb5c-2a4b-4351-b9f6-94f17252d1ff"
      },
      "outputs": [
        {
          "metadata": {
            "tags": null
          },
          "name": "stdout",
          "output_type": "stream",
          "text": [
            "2022-05-04 22:41:14.521 INFO    numexpr.utils: NumExpr defaulting to 2 threads.\n",
            "\u001b[0m\n",
            "\u001b[34m\u001b[1m  You can now view your Streamlit app in your browser.\u001b[0m\n",
            "\u001b[0m\n",
            "\u001b[34m  Network URL: \u001b[0m\u001b[1mhttp://172.28.0.2:8501\u001b[0m\n",
            "\u001b[34m  External URL: \u001b[0m\u001b[1mhttp://34.80.75.62:8501\u001b[0m\n",
            "\u001b[0m\n",
            "\u001b[K\u001b[?25hnpx: installed 22 in 4.144s\n",
            "your url is: https://thirty-suits-grab-34-80-75-62.loca.lt\n"
          ]
        }
      ],
      "source": [
        "!streamlit run app.py & npx localtunnel --port 8501"
      ]
    }
  ],
  "metadata": {
    "colab": {
      "collapsed_sections": [],
      "name": "checkpointCS.ipynb",
      "provenance": [],
      "authorship_tag": "ABX9TyM4l9NEyNedXTKeHqnQH1hw",
      "include_colab_link": true
    },
    "kernelspec": {
      "display_name": "Python 3",
      "name": "python3"
    },
    "language_info": {
      "name": "python"
    }
  },
  "nbformat": 4,
  "nbformat_minor": 0
}